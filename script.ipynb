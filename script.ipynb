{
 "metadata": {
  "language_info": {
   "codemirror_mode": {
    "name": "ipython",
    "version": 3
   },
   "file_extension": ".py",
   "mimetype": "text/x-python",
   "name": "python",
   "nbconvert_exporter": "python",
   "pygments_lexer": "ipython3",
   "version": "3.6.9-final"
  },
  "orig_nbformat": 2,
  "kernelspec": {
   "name": "python36964bitc366ae769b1c4f91bb000739d98fa97b",
   "display_name": "Python 3.6.9 64-bit",
   "language": "python"
  }
 },
 "nbformat": 4,
 "nbformat_minor": 2,
 "cells": [
  {
   "cell_type": "code",
   "execution_count": 3,
   "metadata": {},
   "outputs": [],
   "source": [
    "import cv2 #for image processing\n",
    "import easygui #to open the filebox\n",
    "import numpy as np #to store image\n",
    "import imageio #to read image stored at particular path\n",
    "import sys\n",
    "import matplotlib.pyplot as plt\n",
    "import os\n",
    "import tkinter as tk\n",
    "from tkinter import filedialog\n",
    "from tkinter import *\n",
    "from PIL import Image #ImageTk #needs to be imported"
   ]
  },
  {
   "cell_type": "code",
   "execution_count": 6,
   "metadata": {},
   "outputs": [],
   "source": [
    "\"\"\" fileopenbox opens the box to choose file\n",
    "and help us store file path as string \"\"\"\n",
    "ImagePath=\"Pramod-Dubey-Meme-Template.jpg\"\n",
    "def upload():\n",
    "    ImagePath=easygui.fileopenbox()\n",
    "    cartoonify(ImagePath)"
   ]
  },
  {
   "cell_type": "code",
   "execution_count": 7,
   "metadata": {},
   "outputs": [],
   "source": [
    "#read the image\n",
    "    originalmage = cv2.imread(ImagePath)\n",
    "    originalmage = cv2.cvtColor(originalmage, cv2.COLOR_BGR2RGB)\n",
    "#print(image)  # image is stored in form of numbers\n",
    "\n",
    "# confirm that image is chosen\n",
    "    if originalmage is None:\n",
    "        print(\"Can not find any image. Choose appropriate file\")\n",
    "        sys.exit()\n",
    "\n",
    "    ReSized1 = cv2.resize(originalmage, (960, 540))\n",
    "#plt.imshow(ReSized1, cmap='gray')"
   ]
  },
  {
   "cell_type": "code",
   "execution_count": 8,
   "metadata": {},
   "outputs": [],
   "source": [
    "#converting an image to grayscale\n",
    "grayScaleImage = cv2.cvtColor(originalmage, cv2.COLOR_BGR2GRAY)\n",
    "ReSized2 = cv2.resize(grayScaleImage, (960, 540))\n",
    "#plt.imshow(ReSized2, cmap='gray')"
   ]
  },
  {
   "cell_type": "code",
   "execution_count": 9,
   "metadata": {},
   "outputs": [],
   "source": [
    "#applying median blur to smoothen an image\n",
    "smoothGrayScale = cv2.medianBlur(grayScaleImage, 5)\n",
    "ReSized3 = cv2.resize(smoothGrayScale, (960, 540))\n",
    "#plt.imshow(ReSized3, cmap='gray')"
   ]
  },
  {
   "cell_type": "code",
   "execution_count": 10,
   "metadata": {},
   "outputs": [],
   "source": [
    "#retrieving the edges for cartoon effect\n",
    "#by using thresholding technique\n",
    "getEdge = cv2.adaptiveThreshold(smoothGrayScale, 255, \n",
    "  cv2.ADAPTIVE_THRESH_MEAN_C, \n",
    "  cv2.THRESH_BINARY, 9, 9)\n",
    "\n",
    "ReSized4 = cv2.resize(getEdge, (960, 540))\n",
    "#plt.imshow(ReSized4, cmap='gray')"
   ]
  },
  {
   "cell_type": "code",
   "execution_count": 11,
   "metadata": {},
   "outputs": [],
   "source": [
    "#applying bilateral filter to remove noise \n",
    "#and keep edge sharp as required\n",
    "colorImage = cv2.bilateralFilter(originalmage, 9, 300, 300)\n",
    "ReSized5 = cv2.resize(colorImage, (960, 540))\n",
    "#plt.imshow(ReSized5, cmap='gray')\n"
   ]
  },
  {
   "cell_type": "code",
   "execution_count": 12,
   "metadata": {},
   "outputs": [],
   "source": [
    "#masking edged image with our \"BEAUTIFY\" image\n",
    "cartoonImage = cv2.bitwise_and(colorImage, colorImage, mask=getEdge)\n",
    "\n",
    "ReSized6 = cv2.resize(cartoonImage, (960, 540))\n",
    "#plt.imshow(ReSized6, cmap='gray')\n"
   ]
  },
  {
   "cell_type": "code",
   "execution_count": 13,
   "metadata": {},
   "outputs": [
    {
     "output_type": "error",
     "ename": "SyntaxError",
     "evalue": "invalid syntax (<ipython-input-13-08f3648ce706>, line 6)",
     "traceback": [
      "\u001b[0;36m  File \u001b[0;32m\"<ipython-input-13-08f3648ce706>\"\u001b[0;36m, line \u001b[0;32m6\u001b[0m\n\u001b[0;31m    //save button code\u001b[0m\n\u001b[0m     ^\u001b[0m\n\u001b[0;31mSyntaxError\u001b[0m\u001b[0;31m:\u001b[0m invalid syntax\n"
     ]
    }
   ],
   "source": [
    "# Plotting the whole transition\n",
    "images=[ReSized1, ReSized2, ReSized3, ReSized4, ReSized5, ReSized6]\n",
    "fig, axes = plt.subplots(3,2, figsize=(8,8), subplot_kw={'xticks':[], 'yticks':[]}, gridspec_kw=dict(hspace=0.1, wspace=0.1))\n",
    "for i, ax in enumerate(axes.flat):\n",
    "    ax.imshow(images[i], cmap='gray')\n",
    "#save button code\n",
    "plt.show()"
   ]
  },
  {
   "cell_type": "code",
   "execution_count": null,
   "metadata": {},
   "outputs": [],
   "source": []
  }
 ]
}